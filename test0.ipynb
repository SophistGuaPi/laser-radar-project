{
 "cells": [
  {
   "cell_type": "code",
   "execution_count": null,
   "id": "initial_id",
   "metadata": {
    "collapsed": true,
    "pycharm": {
     "name": "#%%\n"
    },
    "ExecuteTime": {
     "start_time": "2024-03-04T08:27:04.439960166Z"
    }
   },
   "outputs": [
    {
     "name": "stdout",
     "output_type": "stream",
     "text": [
      "D=2.698m,516#\r\n",
      "D=2.687m,567#\r\n",
      "D=2.716m,552#\r\n",
      "D=2.721m,598#\r\n",
      "D=2.721m,543#\r\n",
      "D=2.750m,615#\r\n",
      "D=2.755m,658#\r\n",
      "D=2.744m,639#\r\n",
      "D=2.747m,695#\r\n",
      "D=2.747m,738#\r\n",
      "D=2.747m,735#\r\n",
      "D=2.750m,721#\r\n",
      "D=2.751m,774#\r\n",
      "D=2.748m,722#\r\n",
      "D=2.750m,682#\r\n",
      "D=2.746m,720#\r\n",
      "D=2.747m,779#\r\n",
      "D=2.746m,833#\r\n",
      "D=2.741m,799#\r\n",
      "D=2.742m,879#\r\n",
      "D=2.755m,884#\r\n",
      "D=2.436m,890#\r\n",
      "D=2.463m,400#\r\n",
      "D=1.933m,346#\r\n",
      "D=1.915m,338#\r\n",
      "D=1.870m,367#\r\n",
      "D=1.680m,362#\r\n",
      "D=1.674m,393#\r\n",
      "D=3.714m,361#\r\n",
      "D=2.552m,1062#\r\n",
      "D=2.552m,982#\r\n",
      "D=2.560m,1015#\r\n",
      "D=2.557m,1077#\r\n",
      "D=1.524m,934#\r\n",
      "D=0.101m,985#\r\n",
      "D=0.106m,1188#\r\n",
      "D=0.107m,2130#\r\n",
      "\n",
      "Serial Communication Stopped.\n",
      "D=0.107m,2048#\r\n"
     ]
    }
   ],
   "source": [
    "import serial\n",
    "import threading\n",
    "import time\n",
    "\n",
    "# 串口参数\n",
    "port = '/dev/ttyUSB0'  # 串口设备路径\n",
    "baudrate = 115200     # 波特率\n",
    "bytesize = serial.EIGHTBITS  # 数据位\n",
    "stopbits = serial.STOPBITS_ONE  # 停止位\n",
    "timeout = 1           # 超时时间（秒）\n",
    "\n",
    "# 打开串口\n",
    "ser = serial.Serial(port, baudrate, bytesize, stopbits = stopbits, timeout=timeout)\n",
    "\n",
    "# 异步读取数据的线程函数\n",
    "def read_serial():\n",
    "    while True:\n",
    "        data = ser.readline()\n",
    "        print(data.decode('utf-8'))\n",
    "\n",
    "# 创建并运行线程\n",
    "thread = threading.Thread(target=read_serial)\n",
    "thread.start()\n",
    "\n",
    "try:\n",
    "    # 主线程中异步写入数据\n",
    "    while True:\n",
    "        ser.write(f\"iSM\\r\\n\".encode())\n",
    "        time.sleep(0.1)\n",
    "except KeyboardInterrupt:\n",
    "    print(\"Serial Communication Stopped.\")\n",
    "finally:\n",
    "    # 等待读取线程结束后再关闭串口\n",
    "    thread.join()\n",
    "    if ser.is_open:\n",
    "        ser.close()"
   ]
  },
  {
   "cell_type": "code",
   "execution_count": null,
   "outputs": [],
   "source": [
    "\n"
   ],
   "metadata": {
    "collapsed": false
   },
   "id": "e149a8fe7f188681"
  }
 ],
 "metadata": {
  "kernelspec": {
   "display_name": "Python 3",
   "language": "python",
   "name": "python3"
  },
  "language_info": {
   "codemirror_mode": {
    "name": "ipython",
    "version": 2
   },
   "file_extension": ".py",
   "mimetype": "text/x-python",
   "name": "python",
   "nbconvert_exporter": "python",
   "pygments_lexer": "ipython2",
   "version": "2.7.6"
  }
 },
 "nbformat": 4,
 "nbformat_minor": 5
}
