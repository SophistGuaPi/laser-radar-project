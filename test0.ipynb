{
 "cells": [
  {
   "cell_type": "code",
   "execution_count": 1,
   "outputs": [
    {
     "name": "stdout",
     "output_type": "stream",
     "text": [
      "OK\r\n"
     ]
    },
    {
     "name": "stderr",
     "output_type": "stream",
     "text": [
      "qt.qpa.plugin: Could not find the Qt platform plugin \"wayland\" in \"\"\n"
     ]
    },
    {
     "name": "stdout",
     "output_type": "stream",
     "text": [
      "True\n",
      "1\n",
      "False\n",
      "True\n",
      "1\n",
      "False\n"
     ]
    },
    {
     "ename": "SystemExit",
     "evalue": "0",
     "output_type": "error",
     "traceback": [
      "An exception has occurred, use %tb to see the full traceback.\n",
      "\u001B[0;31mSystemExit\u001B[0m\u001B[0;31m:\u001B[0m 0\n"
     ]
    },
    {
     "name": "stderr",
     "output_type": "stream",
     "text": [
      "/home/gua/micromamba/envs/laser_radar/lib/python3.10/site-packages/IPython/core/interactiveshell.py:3561: UserWarning: To exit: use 'exit', 'quit', or Ctrl-D.\n",
      "  warn(\"To exit: use 'exit', 'quit', or Ctrl-D.\", stacklevel=1)\n"
     ]
    }
   ],
   "source": [
    "import laser_measurement.measurement as measurement\n",
    "import monitor.monitor as monitor\n",
    "import threading\n",
    "import time\n",
    "import gui.gui as gui\n",
    "import sys\n",
    "from PyQt5 import QtCore, QtGui, QtWidgets\n",
    "\n",
    "# 串口参数\n",
    "port = '/dev/ttyUSB0'  # 串口设备路径\n",
    "\n",
    "# 打开串口\n",
    "ser = measurement.measure(port) \n",
    "monitor = monitor.monitor()\n",
    "\n",
    "#初始化激光器\n",
    "ser.init_write(20)\n",
    "ser.mode = \"singgel\"\n",
    "\n",
    "#启动GUI\n",
    "gui=gui.gui(monitor,ser)"
   ],
   "metadata": {
    "collapsed": false,
    "ExecuteTime": {
     "end_time": "2024-03-25T02:06:55.960033663Z",
     "start_time": "2024-03-25T02:06:44.648699522Z"
    }
   },
   "id": "5e680af53ada4052"
  },
  {
   "cell_type": "code",
   "execution_count": null,
   "outputs": [],
   "source": [],
   "metadata": {
    "collapsed": false,
    "ExecuteTime": {
     "start_time": "2024-03-25T02:06:55.960485736Z"
    }
   },
   "id": "a56af815f2b1175a"
  }
 ],
 "metadata": {
  "kernelspec": {
   "display_name": "Python 3",
   "language": "python",
   "name": "python3"
  },
  "language_info": {
   "codemirror_mode": {
    "name": "ipython",
    "version": 2
   },
   "file_extension": ".py",
   "mimetype": "text/x-python",
   "name": "python",
   "nbconvert_exporter": "python",
   "pygments_lexer": "ipython2",
   "version": "2.7.6"
  }
 },
 "nbformat": 4,
 "nbformat_minor": 5
}
