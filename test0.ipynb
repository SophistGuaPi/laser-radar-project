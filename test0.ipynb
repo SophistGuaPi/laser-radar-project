{
 "cells": [
  {
   "cell_type": "code",
   "execution_count": null,
   "id": "initial_id",
   "metadata": {
    "collapsed": true,
    "pycharm": {
     "name": "#%%\n"
    },
    "ExecuteTime": {
     "start_time": "2024-03-04T09:07:36.366016189Z"
    }
   },
   "outputs": [
    {
     "name": "stdout",
     "output_type": "stream",
     "text": [
      "D=1.981m,2260#\r\n",
      "D=1.981m,1750#\r\n",
      "D=1.981m,1208#\r\n",
      "D=1.983m,411#\r\n",
      "D=2.017m,425#\r\n",
      "E=255,269#\r\n",
      "E=255,119#\r\n",
      "D=0.560m,67#\r\n",
      "D=0.577m,131#\r\n",
      "D=0.575m,126#\r\n",
      "D=0.550m,123#\r\n",
      "D=0.595m,158#\r\n",
      "D=0.506m,128#\r\n",
      "D=0.473m,232#\r\n",
      "D=0.484m,288#\r\n",
      "D=0.499m,236#\r\n",
      "D=0.506m,258#\r\n",
      "D=0.507m,229#\r\n",
      "D=0.507m,226#\r\n",
      "D=0.522m,238#\r\n",
      "D=0.660m,182#\r\n",
      "D=0.756m,122#\r\n",
      "D=0.879m,107#\r\n",
      "D=1.338m,104#\r\n",
      "D=2.040m,144#\r\n",
      "D=1.792m,360#\r\n",
      "D=1.777m,426#\r\n",
      "D=1.833m,420#\r\n",
      "E=258,149#\r\n",
      "D=0.562m,215#\r\n",
      "D=0.564m,221#\r\n",
      "D=0.568m,218#\r\n",
      "D=0.569m,210#\r\n",
      "D=0.572m,251#\r\n",
      "D=0.572m,255#\r\n",
      "D=0.574m,233#\r\n",
      "D=0.576m,240#\r\n",
      "D=0.625m,210#\r\n",
      "D=0.723m,162#\r\n",
      "D=0.713m,160#\r\n",
      "D=0.639m,171#\r\n",
      "D=0.574m,170#\r\n",
      "D=0.567m,248#\r\n",
      "D=0.589m,251#\r\n",
      "E=255,192#\r\n",
      "D=1.588m,140#\r\n",
      "D=1.877m,209#\r\n",
      "D=1.768m,450#\r\n",
      "D=1.726m,437#\r\n",
      "D=0.559m,406#\r\n",
      "D=0.573m,228#\r\n",
      "D=0.573m,234#\r\n",
      "D=0.574m,238#\r\n",
      "D=0.574m,224#\r\n",
      "D=0.574m,251#\r\n",
      "D=0.574m,209#\r\n",
      "D=0.573m,239#\r\n",
      "D=0.566m,244#\r\n",
      "Serial Communication Stopped.\n",
      "D=0.571m,247#\r\n"
     ]
    }
   ],
   "source": [
    "import serial\n",
    "import threading\n",
    "import time\n",
    "\n",
    "# 串口参数\n",
    "port = '/dev/ttyUSB0'  # 串口设备路径\n",
    "baudrate = 115200     # 波特率\n",
    "bytesize = serial.EIGHTBITS  # 数据位\n",
    "stopbits = serial.STOPBITS_ONE  # 停止位\n",
    "timeout = 1           # 超时时间（秒）\n",
    "\n",
    "# 打开串口\n",
    "ser = serial.Serial(port, baudrate, bytesize, stopbits = stopbits, timeout=timeout)\n",
    "\n",
    "# 异步读取数据的线程函数\n",
    "def read_serial():\n",
    "    while True:\n",
    "        data = ser.readline()\n",
    "        print(data.decode('utf-8'))\n",
    "\n",
    "# 创建并运行线程\n",
    "thread = threading.Thread(target=read_serial)\n",
    "thread.start()\n",
    "\n",
    "try:\n",
    "    # 主线程中异步写入数据\n",
    "    while True:\n",
    "        ser.write(f\"iSM\\r\\n\".encode())\n",
    "        time.sleep(0.1)\n",
    "except KeyboardInterrupt:\n",
    "    print(\"Serial Communication Stopped.\")\n",
    "finally:\n",
    "    # 等待读取线程结束后再关闭串口\n",
    "    thread.join()\n",
    "    if ser.is_open:\n",
    "        ser.close()"
   ]
  },
  {
   "cell_type": "code",
   "execution_count": null,
   "outputs": [],
   "source": [
    "\n"
   ],
   "metadata": {
    "collapsed": false
   },
   "id": "e149a8fe7f188681"
  }
 ],
 "metadata": {
  "kernelspec": {
   "display_name": "Python 3",
   "language": "python",
   "name": "python3"
  },
  "language_info": {
   "codemirror_mode": {
    "name": "ipython",
    "version": 2
   },
   "file_extension": ".py",
   "mimetype": "text/x-python",
   "name": "python",
   "nbconvert_exporter": "python",
   "pygments_lexer": "ipython2",
   "version": "2.7.6"
  }
 },
 "nbformat": 4,
 "nbformat_minor": 5
}
