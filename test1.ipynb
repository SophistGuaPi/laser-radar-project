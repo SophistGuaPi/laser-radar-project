{
 "cells": [
  {
   "cell_type": "code",
   "execution_count": 1,
   "outputs": [],
   "source": [
    "import laser_measurement.measurement as measurement\n",
    "import monitor.monitor as monitor\n",
    "import threading\n",
    "import time\n",
    "\n",
    "# 串口参数\n",
    "port = '/dev/ttyUSB0'  # 串口设备路径\n",
    "\n",
    "# 打开串口\n",
    "ser = measurement.measure(port) \n",
    "monitor = monitor.monitor()\n",
    "\n",
    "#初始化激光器\n",
    "ser.init_write(20)\n",
    "ser.mode = \"singgel\"\n",
    "\n",
    "def mov():\n",
    "    while 1:\n",
    "        monitor.del_move()\n",
    "        monitor.get_position()\n",
    "        time.sleep(1/20)\n",
    "        # t2.join()\n",
    "    \n",
    "def measure():\n",
    "    while 1:\n",
    "        ser.read_serial()\n",
    "        time.sleep(1/20)\n",
    "        # t1.join()\n",
    "        \n",
    "# 创建线程\n",
    "t1=threading.Thread(target=mov,daemon=True)\n",
    "t2=threading.Thread(target=measure,daemon=True)\n",
    "\n",
    "t1.start()\n",
    "t2.start()\n",
    "while 1:\n",
    "    t2.join()\n",
    "    t1.join()\n",
    "erro = monitor.DAQdll.CloseUSB_2XE()\n",
    "ser.stop_serial()\n",
    "\n"
   ],
   "metadata": {
    "collapsed": false,
    "ExecuteTime": {
     "end_time": "2024-03-19T03:21:41.028872945Z",
     "start_time": "2024-03-19T03:21:41.028374031Z"
    }
   },
   "id": "5e680af53ada4052"
  }
 ],
 "metadata": {
  "kernelspec": {
   "display_name": "Python 3",
   "language": "python",
   "name": "python3"
  },
  "language_info": {
   "codemirror_mode": {
    "name": "ipython",
    "version": 2
   },
   "file_extension": ".py",
   "mimetype": "text/x-python",
   "name": "python",
   "nbconvert_exporter": "python",
   "pygments_lexer": "ipython2",
   "version": "2.7.6"
  }
 },
 "nbformat": 4,
 "nbformat_minor": 5
}
