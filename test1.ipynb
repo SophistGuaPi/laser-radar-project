{
 "cells": [
  {
   "cell_type": "code",
   "execution_count": 1,
   "outputs": [
    {
     "name": "stdout",
     "output_type": "stream",
     "text": [
      "OK\r\n",
      "\n",
      "D=2.134m,115#\r\n",
      "D=2.844m,262#\r\n",
      "D=2.795m,89#\r\n",
      "D=2.783m,595#\r\n",
      "D=2.783m,639#\r\n",
      "D=2.784m,638#\r\n",
      "D=2.785m,585#\r\n",
      "D=2.786m,644#\r\n",
      "D=2.787m,647#\r\n",
      "D=2.788m,756#\r\n",
      "D=2.789m,724#\r\n",
      "D=2.790m,696#\r\n",
      "D=2.791m,667#\r\n"
     ]
    },
    {
     "ename": "KeyboardInterrupt",
     "evalue": "",
     "output_type": "error",
     "traceback": [
      "\u001B[0;31m---------------------------------------------------------------------------\u001B[0m",
      "\u001B[0;31mKeyboardInterrupt\u001B[0m                         Traceback (most recent call last)",
      "Cell \u001B[0;32mIn[1], line 36\u001B[0m\n\u001B[1;32m     34\u001B[0m t1\u001B[38;5;241m.\u001B[39mstart()\n\u001B[1;32m     35\u001B[0m t2\u001B[38;5;241m.\u001B[39mstart()\n\u001B[0;32m---> 36\u001B[0m \u001B[43mt2\u001B[49m\u001B[38;5;241;43m.\u001B[39;49m\u001B[43mjoin\u001B[49m\u001B[43m(\u001B[49m\u001B[43m)\u001B[49m\n\u001B[1;32m     37\u001B[0m t1\u001B[38;5;241m.\u001B[39mjoin()\n\u001B[1;32m     38\u001B[0m erro \u001B[38;5;241m=\u001B[39m monitor\u001B[38;5;241m.\u001B[39mDAQdll\u001B[38;5;241m.\u001B[39mCloseUSB_2XE()\n",
      "File \u001B[0;32m~/micromamba/envs/laser_radar/lib/python3.10/threading.py:1096\u001B[0m, in \u001B[0;36mThread.join\u001B[0;34m(self, timeout)\u001B[0m\n\u001B[1;32m   1093\u001B[0m     \u001B[38;5;28;01mraise\u001B[39;00m \u001B[38;5;167;01mRuntimeError\u001B[39;00m(\u001B[38;5;124m\"\u001B[39m\u001B[38;5;124mcannot join current thread\u001B[39m\u001B[38;5;124m\"\u001B[39m)\n\u001B[1;32m   1095\u001B[0m \u001B[38;5;28;01mif\u001B[39;00m timeout \u001B[38;5;129;01mis\u001B[39;00m \u001B[38;5;28;01mNone\u001B[39;00m:\n\u001B[0;32m-> 1096\u001B[0m     \u001B[38;5;28;43mself\u001B[39;49m\u001B[38;5;241;43m.\u001B[39;49m\u001B[43m_wait_for_tstate_lock\u001B[49m\u001B[43m(\u001B[49m\u001B[43m)\u001B[49m\n\u001B[1;32m   1097\u001B[0m \u001B[38;5;28;01melse\u001B[39;00m:\n\u001B[1;32m   1098\u001B[0m     \u001B[38;5;66;03m# the behavior of a negative timeout isn't documented, but\u001B[39;00m\n\u001B[1;32m   1099\u001B[0m     \u001B[38;5;66;03m# historically .join(timeout=x) for x<0 has acted as if timeout=0\u001B[39;00m\n\u001B[1;32m   1100\u001B[0m     \u001B[38;5;28mself\u001B[39m\u001B[38;5;241m.\u001B[39m_wait_for_tstate_lock(timeout\u001B[38;5;241m=\u001B[39m\u001B[38;5;28mmax\u001B[39m(timeout, \u001B[38;5;241m0\u001B[39m))\n",
      "File \u001B[0;32m~/micromamba/envs/laser_radar/lib/python3.10/threading.py:1116\u001B[0m, in \u001B[0;36mThread._wait_for_tstate_lock\u001B[0;34m(self, block, timeout)\u001B[0m\n\u001B[1;32m   1113\u001B[0m     \u001B[38;5;28;01mreturn\u001B[39;00m\n\u001B[1;32m   1115\u001B[0m \u001B[38;5;28;01mtry\u001B[39;00m:\n\u001B[0;32m-> 1116\u001B[0m     \u001B[38;5;28;01mif\u001B[39;00m \u001B[43mlock\u001B[49m\u001B[38;5;241;43m.\u001B[39;49m\u001B[43macquire\u001B[49m\u001B[43m(\u001B[49m\u001B[43mblock\u001B[49m\u001B[43m,\u001B[49m\u001B[43m \u001B[49m\u001B[43mtimeout\u001B[49m\u001B[43m)\u001B[49m:\n\u001B[1;32m   1117\u001B[0m         lock\u001B[38;5;241m.\u001B[39mrelease()\n\u001B[1;32m   1118\u001B[0m         \u001B[38;5;28mself\u001B[39m\u001B[38;5;241m.\u001B[39m_stop()\n",
      "\u001B[0;31mKeyboardInterrupt\u001B[0m: "
     ]
    }
   ],
   "source": [
    "import laser_measurement.measurement as measurement\n",
    "import monitor.monitor as monitor\n",
    "import threading\n",
    "import time\n",
    "\n",
    "# 串口参数\n",
    "port = '/dev/ttyUSB0'  # 串口设备路径\n",
    "\n",
    "# 打开串口\n",
    "ser = measurement.measure(port) \n",
    "monitor = monitor.monitor()\n",
    "\n",
    "#初始化激光器\n",
    "ser.init_write(20)\n",
    "ser.mode = \"singgel\"\n",
    "\n",
    "def mov():\n",
    "    while 1:\n",
    "        monitor.del_move_x()\n",
    "        # monitor.get_position()\n",
    "        time.sleep(1/20)\n",
    "        # t2.join()\n",
    "    \n",
    "def measure():\n",
    "    while 1:\n",
    "        ser.read_serial()\n",
    "        time.sleep(1/20)\n",
    "        # t1.join()\n",
    "        \n",
    "# 创建线程\n",
    "t1=threading.Thread(target=mov,daemon=True)\n",
    "t2=threading.Thread(target=measure,daemon=True)\n",
    "\n",
    "t1.start()\n",
    "t2.start()\n",
    "t2.join()\n",
    "t1.join()\n",
    "erro = monitor.DAQdll.CloseUSB_2XE()\n",
    "ser.stop_serial()\n",
    "\n"
   ],
   "metadata": {
    "collapsed": false,
    "ExecuteTime": {
     "end_time": "2024-03-25T03:37:08.305369073Z",
     "start_time": "2024-03-25T03:37:03.084465247Z"
    }
   },
   "id": "5e680af53ada4052"
  },
  {
   "cell_type": "code",
   "execution_count": null,
   "outputs": [],
   "source": [],
   "metadata": {
    "collapsed": false,
    "ExecuteTime": {
     "start_time": "2024-03-25T03:25:27.811029414Z"
    }
   },
   "id": "5aecaddbd55992fc"
  }
 ],
 "metadata": {
  "kernelspec": {
   "display_name": "Python 3",
   "language": "python",
   "name": "python3"
  },
  "language_info": {
   "codemirror_mode": {
    "name": "ipython",
    "version": 2
   },
   "file_extension": ".py",
   "mimetype": "text/x-python",
   "name": "python",
   "nbconvert_exporter": "python",
   "pygments_lexer": "ipython2",
   "version": "2.7.6"
  }
 },
 "nbformat": 4,
 "nbformat_minor": 5
}
